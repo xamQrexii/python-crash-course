{
 "cells": [
  {
   "cell_type": "code",
   "execution_count": 41,
   "metadata": {},
   "outputs": [
    {
     "name": "stdout",
     "output_type": "stream",
     "text": [
      "In Python Scientific Calculation is very easy.\n",
      "In Python I've learnt Numpy\n",
      "In Python I've learnt Pandas\n",
      "\n"
     ]
    }
   ],
   "source": [
    "\"\"\"\n",
    "10 -1. Learning Python:\n",
    " Open a blank file in your text editor and write a few \n",
    "lines summarizing what you’ve learned about Python so far\n",
    " .\n",
    " Start each line \n",
    "with the phrase \n",
    "In Python you can...\n",
    " .\n",
    " Save the file as \n",
    "learning_python.txt\n",
    " in the \n",
    "same directory as your exercises from this chapter\n",
    " .\n",
    " Write a program that reads \n",
    "the file and prints what you wrote three times\n",
    " .\n",
    " Print the contents once by read-\n",
    "ing in the entire file, once by looping over the file object, and once by storing \n",
    "the lines in a list and then working with them outside the \n",
    "with block\n",
    " .\n",
    "\"\"\"\n",
    "\n",
    "with open('learning_python.txt') as file_object:\n",
    "    contents_1 = file_object.read()\n",
    "    print(contents_1)\n",
    "\n"
   ]
  },
  {
   "cell_type": "code",
   "execution_count": 42,
   "metadata": {},
   "outputs": [
    {
     "name": "stdout",
     "output_type": "stream",
     "text": [
      "In Python Scientific Calculation is very easy.\n",
      "In Python I've learnt Numpy\n",
      "In Python I've learnt Pandas\n",
      "\n",
      "Contents variable type is:  <class 'list'>\n"
     ]
    }
   ],
   "source": [
    "with open('learning_python.txt') as file_object:\n",
    "    contents_2 = file_object.read()\n",
    "    print(contents_2)\n",
    "\n",
    "print(\"contents_2 variable type is: \",str(type(contents)))"
   ]
  },
  {
   "cell_type": "code",
   "execution_count": 52,
   "metadata": {},
   "outputs": [
    {
     "name": "stdout",
     "output_type": "stream",
     "text": [
      "In Python Scientific Calculation is very easy.\n",
      "\n",
      "In Python I've learnt Numpy\n",
      "\n",
      "In Python I've learnt Pandas\n",
      "contents_3 variable type is:  <class 'list'>\n"
     ]
    }
   ],
   "source": [
    "with open('learning_python.txt') as file_object:\n",
    "    contents_3 = file_object.readlines()\n",
    "    for line in contents_3:\n",
    "        print(line)\n",
    "print(\"contents_3 variable type is: \",str(type(contents)))\n"
   ]
  }
 ],
 "metadata": {
  "kernelspec": {
   "display_name": "Python 3",
   "language": "python",
   "name": "python3"
  },
  "language_info": {
   "codemirror_mode": {
    "name": "ipython",
    "version": 3
   },
   "file_extension": ".py",
   "mimetype": "text/x-python",
   "name": "python",
   "nbconvert_exporter": "python",
   "pygments_lexer": "ipython3",
   "version": "3.6.3"
  }
 },
 "nbformat": 4,
 "nbformat_minor": 2
}
