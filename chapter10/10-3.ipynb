{
 "cells": [
  {
   "cell_type": "code",
   "execution_count": 4,
   "metadata": {},
   "outputs": [
    {
     "name": "stdout",
     "output_type": "stream",
     "text": [
      "Please enter your name: faryal\n",
      "y for continye q for quie: y\n",
      "Please enter your name: rizwan\n",
      "y for continye q for quie: q\n"
     ]
    }
   ],
   "source": [
    "\"\"\"\n",
    "10-3. Guest:\n",
    " Write a program that prompts the user for their name\n",
    " .\n",
    " When they \n",
    "respond, write their name to a file called \n",
    "guest.txt\n",
    " .\n",
    "\"\"\"\n",
    "\n",
    "while True:\n",
    "    user_name = input('Please enter your name: ')\n",
    "    file_name = 'guests.txt'\n",
    "    with open(file_name, 'a') as file_object:\n",
    "        file_object.write(user_name + \"\\n\")\n",
    "    terminate_loop = input('y for continye q for quie: ')\n",
    "    if 'q' in terminate_loop.lower():\n",
    "        break"
   ]
  },
  {
   "cell_type": "code",
   "execution_count": null,
   "metadata": {
    "collapsed": true
   },
   "outputs": [],
   "source": []
  }
 ],
 "metadata": {
  "kernelspec": {
   "display_name": "Python 3",
   "language": "python",
   "name": "python3"
  }
 },
 "nbformat": 4,
 "nbformat_minor": 2
}
