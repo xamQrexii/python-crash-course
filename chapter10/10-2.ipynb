{
 "cells": [
  {
   "cell_type": "code",
   "execution_count": 30,
   "metadata": {},
   "outputs": [
    {
     "name": "stdout",
     "output_type": "stream",
     "text": [
      "Before replacing Python with C\n",
      "\n",
      "In Python Scientific Calculation is very easy.\n",
      "In Python I've learnt Numpy\n",
      "In Python I've learnt Pandas\n",
      "\n",
      "After replacing Python with C\n",
      "\n",
      "In C Scientific Calculation is very easy.\n",
      "In C I've learnt Numpy\n",
      "In C I've learnt Pandas\n",
      "\n"
     ]
    }
   ],
   "source": [
    "\"\"\"\n",
    "10-2. Learning C:\n",
    "You can use the \n",
    "replace()\n",
    "method to replace any word in a \n",
    "string with a different word\n",
    "\"\"\"\n",
    "\n",
    "with open('learning_python.txt') as file_object:\n",
    "    print('Before replacing Python with C\\n')\n",
    "    contents = file_object.read()\n",
    "    print(contents)\n",
    "    contents = contents.replace('Python', 'C')\n",
    "    print('After replacing Python with C\\n')\n",
    "    print(contents)\n",
    "\n",
    "   "
   ]
  }
 ],
 "metadata": {
  "kernelspec": {
   "display_name": "Python 3",
   "language": "python",
   "name": "python3"
  },
  "language_info": {
   "codemirror_mode": {
    "name": "ipython",
    "version": 3
   },
   "file_extension": ".py",
   "mimetype": "text/x-python",
   "name": "python",
   "nbconvert_exporter": "python",
   "pygments_lexer": "ipython3",
   "version": "3.6.3"
  }
 },
 "nbformat": 4,
 "nbformat_minor": 2
}
